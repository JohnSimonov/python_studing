{
  "nbformat": 4,
  "nbformat_minor": 0,
  "metadata": {
    "colab": {
      "provenance": [],
      "authorship_tag": "ABX9TyPRrThBom4QVOf/yZtmMWWL"
    },
    "kernelspec": {
      "name": "python3",
      "display_name": "Python 3"
    },
    "language_info": {
      "name": "python"
    }
  },
  "cells": [
    {
      "cell_type": "markdown",
      "source": [
        "**Задача 40**"
      ],
      "metadata": {
        "id": "Inh9ip7ePfBv"
      }
    },
    {
      "cell_type": "code",
      "execution_count": 79,
      "metadata": {
        "colab": {
          "base_uri": "https://localhost:8080/"
        },
        "id": "I_JJxrwvqJiO",
        "outputId": "c1be8142-3833-481d-abff-133995441671"
      },
      "outputs": [
        {
          "output_type": "execute_result",
          "data": {
            "text/plain": [
              "206799.95140186916"
            ]
          },
          "metadata": {},
          "execution_count": 79
        }
      ],
      "source": [
        "import pandas as pd\n",
        "\n",
        "\n",
        "df = pd.read_csv('sample_data/california_housing_train.csv')\n",
        "\n",
        "df[ (df['population'] > 0) & (df['population'] <= 500) ]['median_house_value'].mean()"
      ]
    },
    {
      "cell_type": "markdown",
      "source": [
        "**Задача 42**"
      ],
      "metadata": {
        "id": "wDCPgjBUSBZD"
      }
    },
    {
      "cell_type": "code",
      "source": [
        "min_population = df['population'].min()\n",
        "\n",
        "df[df['population'] == min_population]['households'].max()"
      ],
      "metadata": {
        "colab": {
          "base_uri": "https://localhost:8080/"
        },
        "id": "576WeIXuSHEA",
        "outputId": "fe30ce0b-acd9-4f2e-cabf-5b72a1b9b719"
      },
      "execution_count": 85,
      "outputs": [
        {
          "output_type": "execute_result",
          "data": {
            "text/plain": [
              "4.0"
            ]
          },
          "metadata": {},
          "execution_count": 85
        }
      ]
    }
  ]
}